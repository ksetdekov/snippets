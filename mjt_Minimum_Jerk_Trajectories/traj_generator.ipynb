{
 "cells": [
  {
   "cell_type": "code",
   "execution_count": 18,
   "metadata": {},
   "outputs": [
    {
     "data": {
      "application/vnd.plotly.v1+json": {
       "config": {
        "plotlyServerURL": "https://plot.ly"
       },
       "data": [
        {
         "name": "Position",
         "type": "scatter",
         "x": [
          0.01,
          0.02,
          0.03,
          0.04,
          0.05,
          0.06,
          0.07,
          0.08,
          0.09,
          0.1,
          0.11,
          0.12,
          0.13,
          0.14,
          0.15,
          0.16,
          0.17,
          0.18,
          0.19,
          0.2,
          0.21,
          0.22,
          0.23,
          0.24,
          0.25,
          0.26,
          0.27,
          0.28,
          0.29,
          0.3,
          0.31,
          0.32,
          0.33,
          0.34,
          0.35,
          0.36,
          0.37,
          0.38,
          0.39,
          0.4,
          0.41,
          0.42,
          0.43,
          0.44,
          0.45,
          0.46,
          0.47,
          0.48,
          0.49,
          0.5,
          0.51,
          0.52,
          0.53,
          0.54,
          0.55,
          0.56,
          0.57,
          0.58,
          0.59,
          0.6,
          0.61,
          0.62,
          0.63,
          0.64,
          0.65,
          0.66,
          0.67,
          0.68,
          0.69,
          0.7,
          0.71,
          0.72,
          0.73,
          0.74,
          0.75,
          0.76,
          0.77,
          0.78,
          0.79,
          0.8,
          0.81,
          0.82,
          0.83,
          0.84,
          0.85,
          0.86,
          0.87,
          0.88,
          0.89,
          0.9,
          0.91,
          0.92,
          0.93,
          0.94,
          0.95,
          0.96,
          0.97,
          0.98,
          0.99,
          1
         ],
         "y": [
          0,
          0,
          0,
          0,
          0,
          0,
          0,
          0,
          0,
          0,
          0,
          0,
          0,
          0,
          0,
          0,
          0,
          0,
          0,
          0,
          0,
          0,
          0,
          0,
          0,
          0,
          0,
          0,
          0,
          0,
          0,
          0,
          0,
          0,
          0,
          0,
          0,
          0,
          0,
          0,
          0,
          0,
          0,
          0,
          0,
          0,
          0,
          0,
          0,
          0,
          0,
          0,
          0,
          0,
          0,
          0,
          0,
          0,
          0,
          0,
          0,
          0,
          0,
          0,
          0,
          0,
          0,
          0,
          0,
          0,
          0,
          0,
          0,
          0,
          0,
          0,
          0,
          0,
          0,
          0,
          0,
          0,
          0,
          0,
          0,
          0,
          0,
          0,
          0,
          0,
          0,
          0,
          0,
          0,
          0,
          0,
          0,
          0,
          0,
          0
         ]
        },
        {
         "name": "Velocity",
         "type": "scatter",
         "x": [
          0.01,
          0.02,
          0.03,
          0.04,
          0.05,
          0.06,
          0.07,
          0.08,
          0.09,
          0.1,
          0.11,
          0.12,
          0.13,
          0.14,
          0.15,
          0.16,
          0.17,
          0.18,
          0.19,
          0.2,
          0.21,
          0.22,
          0.23,
          0.24,
          0.25,
          0.26,
          0.27,
          0.28,
          0.29,
          0.3,
          0.31,
          0.32,
          0.33,
          0.34,
          0.35,
          0.36,
          0.37,
          0.38,
          0.39,
          0.4,
          0.41,
          0.42,
          0.43,
          0.44,
          0.45,
          0.46,
          0.47,
          0.48,
          0.49,
          0.5,
          0.51,
          0.52,
          0.53,
          0.54,
          0.55,
          0.56,
          0.57,
          0.58,
          0.59,
          0.6,
          0.61,
          0.62,
          0.63,
          0.64,
          0.65,
          0.66,
          0.67,
          0.68,
          0.69,
          0.7,
          0.71,
          0.72,
          0.73,
          0.74,
          0.75,
          0.76,
          0.77,
          0.78,
          0.79,
          0.8,
          0.81,
          0.82,
          0.83,
          0.84,
          0.85,
          0.86,
          0.87,
          0.88,
          0.89,
          0.9,
          0.91,
          0.92,
          0.93,
          0.94,
          0.95,
          0.96,
          0.97,
          0.98,
          0.99,
          1
         ],
         "y": [
          0,
          0,
          0,
          0,
          0,
          0,
          0,
          0,
          0,
          0,
          0,
          0,
          0,
          0,
          0,
          0,
          0,
          0,
          0,
          0,
          0,
          0,
          0,
          0,
          0,
          0,
          0,
          0,
          0,
          0,
          0,
          0,
          0,
          0,
          0,
          0,
          0,
          0,
          0,
          0,
          0,
          0,
          0,
          0,
          0,
          0,
          0,
          0,
          0,
          0,
          0,
          0,
          0,
          0,
          0,
          0,
          0,
          0,
          0,
          0,
          0,
          0,
          0,
          0,
          0,
          0,
          0,
          0,
          0,
          0,
          0,
          0,
          0,
          0,
          0,
          0,
          0,
          0,
          0,
          0,
          0,
          0,
          0,
          0,
          0,
          0,
          0,
          0,
          0,
          0,
          0,
          0,
          0,
          0,
          0,
          0,
          0,
          0,
          0,
          0
         ]
        },
        {
         "name": "Acceleration",
         "type": "scatter",
         "x": [
          0.01,
          0.02,
          0.03,
          0.04,
          0.05,
          0.06,
          0.07,
          0.08,
          0.09,
          0.1,
          0.11,
          0.12,
          0.13,
          0.14,
          0.15,
          0.16,
          0.17,
          0.18,
          0.19,
          0.2,
          0.21,
          0.22,
          0.23,
          0.24,
          0.25,
          0.26,
          0.27,
          0.28,
          0.29,
          0.3,
          0.31,
          0.32,
          0.33,
          0.34,
          0.35,
          0.36,
          0.37,
          0.38,
          0.39,
          0.4,
          0.41,
          0.42,
          0.43,
          0.44,
          0.45,
          0.46,
          0.47,
          0.48,
          0.49,
          0.5,
          0.51,
          0.52,
          0.53,
          0.54,
          0.55,
          0.56,
          0.57,
          0.58,
          0.59,
          0.6,
          0.61,
          0.62,
          0.63,
          0.64,
          0.65,
          0.66,
          0.67,
          0.68,
          0.69,
          0.7,
          0.71,
          0.72,
          0.73,
          0.74,
          0.75,
          0.76,
          0.77,
          0.78,
          0.79,
          0.8,
          0.81,
          0.82,
          0.83,
          0.84,
          0.85,
          0.86,
          0.87,
          0.88,
          0.89,
          0.9,
          0.91,
          0.92,
          0.93,
          0.94,
          0.95,
          0.96,
          0.97,
          0.98,
          0.99,
          1
         ],
         "y": [
          0,
          0,
          0,
          0,
          0,
          0,
          0,
          0,
          0,
          0,
          0,
          0,
          0,
          0,
          0,
          0,
          0,
          0,
          0,
          0,
          0,
          0,
          0,
          0,
          0,
          0,
          0,
          0,
          0,
          0,
          0,
          0,
          0,
          0,
          0,
          0,
          0,
          0,
          0,
          0,
          0,
          0,
          0,
          0,
          0,
          0,
          0,
          0,
          0,
          0,
          0,
          0,
          0,
          0,
          0,
          0,
          0,
          0,
          0,
          0,
          0,
          0,
          0,
          0,
          0,
          0,
          0,
          0,
          0,
          0,
          0,
          0,
          0,
          0,
          0,
          0,
          0,
          0,
          0,
          0,
          0,
          0,
          0,
          0,
          0,
          0,
          0,
          0,
          0,
          0,
          0,
          0,
          0,
          0,
          0,
          0,
          0,
          0,
          0,
          0
         ]
        },
        {
         "name": "Jerk",
         "type": "scatter",
         "x": [
          0.01,
          0.02,
          0.03,
          0.04,
          0.05,
          0.06,
          0.07,
          0.08,
          0.09,
          0.1,
          0.11,
          0.12,
          0.13,
          0.14,
          0.15,
          0.16,
          0.17,
          0.18,
          0.19,
          0.2,
          0.21,
          0.22,
          0.23,
          0.24,
          0.25,
          0.26,
          0.27,
          0.28,
          0.29,
          0.3,
          0.31,
          0.32,
          0.33,
          0.34,
          0.35,
          0.36,
          0.37,
          0.38,
          0.39,
          0.4,
          0.41,
          0.42,
          0.43,
          0.44,
          0.45,
          0.46,
          0.47,
          0.48,
          0.49,
          0.5,
          0.51,
          0.52,
          0.53,
          0.54,
          0.55,
          0.56,
          0.57,
          0.58,
          0.59,
          0.6,
          0.61,
          0.62,
          0.63,
          0.64,
          0.65,
          0.66,
          0.67,
          0.68,
          0.69,
          0.7,
          0.71,
          0.72,
          0.73,
          0.74,
          0.75,
          0.76,
          0.77,
          0.78,
          0.79,
          0.8,
          0.81,
          0.82,
          0.83,
          0.84,
          0.85,
          0.86,
          0.87,
          0.88,
          0.89,
          0.9,
          0.91,
          0.92,
          0.93,
          0.94,
          0.95,
          0.96,
          0.97,
          0.98,
          0.99,
          1
         ],
         "y": [
          0,
          0,
          0,
          0,
          0,
          0,
          0,
          0,
          0,
          0,
          0,
          0,
          0,
          0,
          0,
          0,
          0,
          0,
          0,
          0,
          0,
          0,
          0,
          0,
          0,
          0,
          0,
          0,
          0,
          0,
          0,
          0,
          0,
          0,
          0,
          0,
          0,
          0,
          0,
          0,
          0,
          0,
          0,
          0,
          0,
          0,
          0,
          0,
          0,
          0,
          0,
          0,
          0,
          0,
          0,
          0,
          0,
          0,
          0,
          0,
          0,
          0,
          0,
          0,
          0,
          0,
          0,
          0,
          0,
          0,
          0,
          0,
          0,
          0,
          0,
          0,
          0,
          0,
          0,
          0,
          0,
          0,
          0,
          0,
          0,
          0,
          0,
          0,
          0,
          0,
          0,
          0,
          0,
          0,
          0,
          0,
          0,
          0,
          0,
          0
         ]
        }
       ],
       "layout": {
        "legend": {
         "orientation": "h",
         "x": 1,
         "xanchor": "right",
         "y": 1.02,
         "yanchor": "bottom"
        },
        "template": {
         "data": {
          "bar": [
           {
            "error_x": {
             "color": "#2a3f5f"
            },
            "error_y": {
             "color": "#2a3f5f"
            },
            "marker": {
             "line": {
              "color": "#E5ECF6",
              "width": 0.5
             },
             "pattern": {
              "fillmode": "overlay",
              "size": 10,
              "solidity": 0.2
             }
            },
            "type": "bar"
           }
          ],
          "barpolar": [
           {
            "marker": {
             "line": {
              "color": "#E5ECF6",
              "width": 0.5
             },
             "pattern": {
              "fillmode": "overlay",
              "size": 10,
              "solidity": 0.2
             }
            },
            "type": "barpolar"
           }
          ],
          "carpet": [
           {
            "aaxis": {
             "endlinecolor": "#2a3f5f",
             "gridcolor": "white",
             "linecolor": "white",
             "minorgridcolor": "white",
             "startlinecolor": "#2a3f5f"
            },
            "baxis": {
             "endlinecolor": "#2a3f5f",
             "gridcolor": "white",
             "linecolor": "white",
             "minorgridcolor": "white",
             "startlinecolor": "#2a3f5f"
            },
            "type": "carpet"
           }
          ],
          "choropleth": [
           {
            "colorbar": {
             "outlinewidth": 0,
             "ticks": ""
            },
            "type": "choropleth"
           }
          ],
          "contour": [
           {
            "colorbar": {
             "outlinewidth": 0,
             "ticks": ""
            },
            "colorscale": [
             [
              0,
              "#0d0887"
             ],
             [
              0.1111111111111111,
              "#46039f"
             ],
             [
              0.2222222222222222,
              "#7201a8"
             ],
             [
              0.3333333333333333,
              "#9c179e"
             ],
             [
              0.4444444444444444,
              "#bd3786"
             ],
             [
              0.5555555555555556,
              "#d8576b"
             ],
             [
              0.6666666666666666,
              "#ed7953"
             ],
             [
              0.7777777777777778,
              "#fb9f3a"
             ],
             [
              0.8888888888888888,
              "#fdca26"
             ],
             [
              1,
              "#f0f921"
             ]
            ],
            "type": "contour"
           }
          ],
          "contourcarpet": [
           {
            "colorbar": {
             "outlinewidth": 0,
             "ticks": ""
            },
            "type": "contourcarpet"
           }
          ],
          "heatmap": [
           {
            "colorbar": {
             "outlinewidth": 0,
             "ticks": ""
            },
            "colorscale": [
             [
              0,
              "#0d0887"
             ],
             [
              0.1111111111111111,
              "#46039f"
             ],
             [
              0.2222222222222222,
              "#7201a8"
             ],
             [
              0.3333333333333333,
              "#9c179e"
             ],
             [
              0.4444444444444444,
              "#bd3786"
             ],
             [
              0.5555555555555556,
              "#d8576b"
             ],
             [
              0.6666666666666666,
              "#ed7953"
             ],
             [
              0.7777777777777778,
              "#fb9f3a"
             ],
             [
              0.8888888888888888,
              "#fdca26"
             ],
             [
              1,
              "#f0f921"
             ]
            ],
            "type": "heatmap"
           }
          ],
          "heatmapgl": [
           {
            "colorbar": {
             "outlinewidth": 0,
             "ticks": ""
            },
            "colorscale": [
             [
              0,
              "#0d0887"
             ],
             [
              0.1111111111111111,
              "#46039f"
             ],
             [
              0.2222222222222222,
              "#7201a8"
             ],
             [
              0.3333333333333333,
              "#9c179e"
             ],
             [
              0.4444444444444444,
              "#bd3786"
             ],
             [
              0.5555555555555556,
              "#d8576b"
             ],
             [
              0.6666666666666666,
              "#ed7953"
             ],
             [
              0.7777777777777778,
              "#fb9f3a"
             ],
             [
              0.8888888888888888,
              "#fdca26"
             ],
             [
              1,
              "#f0f921"
             ]
            ],
            "type": "heatmapgl"
           }
          ],
          "histogram": [
           {
            "marker": {
             "pattern": {
              "fillmode": "overlay",
              "size": 10,
              "solidity": 0.2
             }
            },
            "type": "histogram"
           }
          ],
          "histogram2d": [
           {
            "colorbar": {
             "outlinewidth": 0,
             "ticks": ""
            },
            "colorscale": [
             [
              0,
              "#0d0887"
             ],
             [
              0.1111111111111111,
              "#46039f"
             ],
             [
              0.2222222222222222,
              "#7201a8"
             ],
             [
              0.3333333333333333,
              "#9c179e"
             ],
             [
              0.4444444444444444,
              "#bd3786"
             ],
             [
              0.5555555555555556,
              "#d8576b"
             ],
             [
              0.6666666666666666,
              "#ed7953"
             ],
             [
              0.7777777777777778,
              "#fb9f3a"
             ],
             [
              0.8888888888888888,
              "#fdca26"
             ],
             [
              1,
              "#f0f921"
             ]
            ],
            "type": "histogram2d"
           }
          ],
          "histogram2dcontour": [
           {
            "colorbar": {
             "outlinewidth": 0,
             "ticks": ""
            },
            "colorscale": [
             [
              0,
              "#0d0887"
             ],
             [
              0.1111111111111111,
              "#46039f"
             ],
             [
              0.2222222222222222,
              "#7201a8"
             ],
             [
              0.3333333333333333,
              "#9c179e"
             ],
             [
              0.4444444444444444,
              "#bd3786"
             ],
             [
              0.5555555555555556,
              "#d8576b"
             ],
             [
              0.6666666666666666,
              "#ed7953"
             ],
             [
              0.7777777777777778,
              "#fb9f3a"
             ],
             [
              0.8888888888888888,
              "#fdca26"
             ],
             [
              1,
              "#f0f921"
             ]
            ],
            "type": "histogram2dcontour"
           }
          ],
          "mesh3d": [
           {
            "colorbar": {
             "outlinewidth": 0,
             "ticks": ""
            },
            "type": "mesh3d"
           }
          ],
          "parcoords": [
           {
            "line": {
             "colorbar": {
              "outlinewidth": 0,
              "ticks": ""
             }
            },
            "type": "parcoords"
           }
          ],
          "pie": [
           {
            "automargin": true,
            "type": "pie"
           }
          ],
          "scatter": [
           {
            "fillpattern": {
             "fillmode": "overlay",
             "size": 10,
             "solidity": 0.2
            },
            "type": "scatter"
           }
          ],
          "scatter3d": [
           {
            "line": {
             "colorbar": {
              "outlinewidth": 0,
              "ticks": ""
             }
            },
            "marker": {
             "colorbar": {
              "outlinewidth": 0,
              "ticks": ""
             }
            },
            "type": "scatter3d"
           }
          ],
          "scattercarpet": [
           {
            "marker": {
             "colorbar": {
              "outlinewidth": 0,
              "ticks": ""
             }
            },
            "type": "scattercarpet"
           }
          ],
          "scattergeo": [
           {
            "marker": {
             "colorbar": {
              "outlinewidth": 0,
              "ticks": ""
             }
            },
            "type": "scattergeo"
           }
          ],
          "scattergl": [
           {
            "marker": {
             "colorbar": {
              "outlinewidth": 0,
              "ticks": ""
             }
            },
            "type": "scattergl"
           }
          ],
          "scattermapbox": [
           {
            "marker": {
             "colorbar": {
              "outlinewidth": 0,
              "ticks": ""
             }
            },
            "type": "scattermapbox"
           }
          ],
          "scatterpolar": [
           {
            "marker": {
             "colorbar": {
              "outlinewidth": 0,
              "ticks": ""
             }
            },
            "type": "scatterpolar"
           }
          ],
          "scatterpolargl": [
           {
            "marker": {
             "colorbar": {
              "outlinewidth": 0,
              "ticks": ""
             }
            },
            "type": "scatterpolargl"
           }
          ],
          "scatterternary": [
           {
            "marker": {
             "colorbar": {
              "outlinewidth": 0,
              "ticks": ""
             }
            },
            "type": "scatterternary"
           }
          ],
          "surface": [
           {
            "colorbar": {
             "outlinewidth": 0,
             "ticks": ""
            },
            "colorscale": [
             [
              0,
              "#0d0887"
             ],
             [
              0.1111111111111111,
              "#46039f"
             ],
             [
              0.2222222222222222,
              "#7201a8"
             ],
             [
              0.3333333333333333,
              "#9c179e"
             ],
             [
              0.4444444444444444,
              "#bd3786"
             ],
             [
              0.5555555555555556,
              "#d8576b"
             ],
             [
              0.6666666666666666,
              "#ed7953"
             ],
             [
              0.7777777777777778,
              "#fb9f3a"
             ],
             [
              0.8888888888888888,
              "#fdca26"
             ],
             [
              1,
              "#f0f921"
             ]
            ],
            "type": "surface"
           }
          ],
          "table": [
           {
            "cells": {
             "fill": {
              "color": "#EBF0F8"
             },
             "line": {
              "color": "white"
             }
            },
            "header": {
             "fill": {
              "color": "#C8D4E3"
             },
             "line": {
              "color": "white"
             }
            },
            "type": "table"
           }
          ]
         },
         "layout": {
          "annotationdefaults": {
           "arrowcolor": "#2a3f5f",
           "arrowhead": 0,
           "arrowwidth": 1
          },
          "autotypenumbers": "strict",
          "coloraxis": {
           "colorbar": {
            "outlinewidth": 0,
            "ticks": ""
           }
          },
          "colorscale": {
           "diverging": [
            [
             0,
             "#8e0152"
            ],
            [
             0.1,
             "#c51b7d"
            ],
            [
             0.2,
             "#de77ae"
            ],
            [
             0.3,
             "#f1b6da"
            ],
            [
             0.4,
             "#fde0ef"
            ],
            [
             0.5,
             "#f7f7f7"
            ],
            [
             0.6,
             "#e6f5d0"
            ],
            [
             0.7,
             "#b8e186"
            ],
            [
             0.8,
             "#7fbc41"
            ],
            [
             0.9,
             "#4d9221"
            ],
            [
             1,
             "#276419"
            ]
           ],
           "sequential": [
            [
             0,
             "#0d0887"
            ],
            [
             0.1111111111111111,
             "#46039f"
            ],
            [
             0.2222222222222222,
             "#7201a8"
            ],
            [
             0.3333333333333333,
             "#9c179e"
            ],
            [
             0.4444444444444444,
             "#bd3786"
            ],
            [
             0.5555555555555556,
             "#d8576b"
            ],
            [
             0.6666666666666666,
             "#ed7953"
            ],
            [
             0.7777777777777778,
             "#fb9f3a"
            ],
            [
             0.8888888888888888,
             "#fdca26"
            ],
            [
             1,
             "#f0f921"
            ]
           ],
           "sequentialminus": [
            [
             0,
             "#0d0887"
            ],
            [
             0.1111111111111111,
             "#46039f"
            ],
            [
             0.2222222222222222,
             "#7201a8"
            ],
            [
             0.3333333333333333,
             "#9c179e"
            ],
            [
             0.4444444444444444,
             "#bd3786"
            ],
            [
             0.5555555555555556,
             "#d8576b"
            ],
            [
             0.6666666666666666,
             "#ed7953"
            ],
            [
             0.7777777777777778,
             "#fb9f3a"
            ],
            [
             0.8888888888888888,
             "#fdca26"
            ],
            [
             1,
             "#f0f921"
            ]
           ]
          },
          "colorway": [
           "#636efa",
           "#EF553B",
           "#00cc96",
           "#ab63fa",
           "#FFA15A",
           "#19d3f3",
           "#FF6692",
           "#B6E880",
           "#FF97FF",
           "#FECB52"
          ],
          "font": {
           "color": "#2a3f5f"
          },
          "geo": {
           "bgcolor": "white",
           "lakecolor": "white",
           "landcolor": "#E5ECF6",
           "showlakes": true,
           "showland": true,
           "subunitcolor": "white"
          },
          "hoverlabel": {
           "align": "left"
          },
          "hovermode": "closest",
          "mapbox": {
           "style": "light"
          },
          "paper_bgcolor": "white",
          "plot_bgcolor": "#E5ECF6",
          "polar": {
           "angularaxis": {
            "gridcolor": "white",
            "linecolor": "white",
            "ticks": ""
           },
           "bgcolor": "#E5ECF6",
           "radialaxis": {
            "gridcolor": "white",
            "linecolor": "white",
            "ticks": ""
           }
          },
          "scene": {
           "xaxis": {
            "backgroundcolor": "#E5ECF6",
            "gridcolor": "white",
            "gridwidth": 2,
            "linecolor": "white",
            "showbackground": true,
            "ticks": "",
            "zerolinecolor": "white"
           },
           "yaxis": {
            "backgroundcolor": "#E5ECF6",
            "gridcolor": "white",
            "gridwidth": 2,
            "linecolor": "white",
            "showbackground": true,
            "ticks": "",
            "zerolinecolor": "white"
           },
           "zaxis": {
            "backgroundcolor": "#E5ECF6",
            "gridcolor": "white",
            "gridwidth": 2,
            "linecolor": "white",
            "showbackground": true,
            "ticks": "",
            "zerolinecolor": "white"
           }
          },
          "shapedefaults": {
           "line": {
            "color": "#2a3f5f"
           }
          },
          "ternary": {
           "aaxis": {
            "gridcolor": "white",
            "linecolor": "white",
            "ticks": ""
           },
           "baxis": {
            "gridcolor": "white",
            "linecolor": "white",
            "ticks": ""
           },
           "bgcolor": "#E5ECF6",
           "caxis": {
            "gridcolor": "white",
            "linecolor": "white",
            "ticks": ""
           }
          },
          "title": {
           "x": 0.05
          },
          "xaxis": {
           "automargin": true,
           "gridcolor": "white",
           "linecolor": "white",
           "ticks": "",
           "title": {
            "standoff": 15
           },
           "zerolinecolor": "white",
           "zerolinewidth": 2
          },
          "yaxis": {
           "automargin": true,
           "gridcolor": "white",
           "linecolor": "white",
           "ticks": "",
           "title": {
            "standoff": 15
           },
           "zerolinecolor": "white",
           "zerolinewidth": 2
          }
         }
        },
        "title": {
         "text": "Minimum jerk trajectory"
        },
        "xaxis": {
         "title": {
          "text": "Time [s]"
         }
        },
        "yaxis": {
         "title": {
          "text": "Value"
         }
        }
       }
      }
     },
     "metadata": {},
     "output_type": "display_data"
    }
   ],
   "source": [
    "import plotly.graph_objects as go\n",
    "import numpy as np\n",
    "\n",
    "\n",
    "def minimum_jerk_trajectory(points, T, frequency):\n",
    "    num_points = len(points)\n",
    "    timefreq = int(T * frequency) + 1\n",
    "\n",
    "    a = np.zeros((6, num_points))\n",
    "    a[0, :] = points[:, 0]\n",
    "    a[1, :] = points[:, 1]\n",
    "    a[2, :] = points[:, 2] / 2\n",
    "\n",
    "    b = np.zeros((num_points, 3, 3))\n",
    "    b[:, 0, 0] = T ** 3\n",
    "    b[:, 0, 1] = T ** 4\n",
    "    b[:, 0, 2] = T ** 5\n",
    "    b[:, 1, 0] = 3 * T ** 2\n",
    "    b[:, 1, 1] = 4 * T ** 3\n",
    "    b[:, 1, 2] = 5 * T ** 4\n",
    "    b[:, 2, 0] = 6 * T\n",
    "    b[:, 2, 1] = 12 * T ** 2\n",
    "    b[:, 2, 2] = 20 * T ** 3\n",
    "\n",
    "    c = np.zeros((num_points, 3))\n",
    "    c[:, 0] = points[:, 3] - a[0, :] - a[1, :] * T - a[2, :] * T ** 2\n",
    "    c[:, 1] = points[:, 4] - a[1, :] - 2 * a[2, :] * T\n",
    "    c[:, 2] = points[:, 5] - 2 * a[2, :]\n",
    "\n",
    "    trajectory = []\n",
    "    trajectory_derivative = []\n",
    "    acceleration = []\n",
    "    jerk = []\n",
    "\n",
    "    for time in range(1, timefreq):\n",
    "        t = time / timefreq\n",
    "        pos = np.sum(a * np.array([t ** i for i in range(6)]).reshape(6, 1, -1), axis=0)\n",
    "        vel = np.sum(a[1:] * np.array([(i + 1) * t ** i for i in range(5)]).reshape(5, 1, -1), axis=0)\n",
    "        acc = np.sum(a[2:] * np.array([(i + 1) * i * t ** (i - 1) for i in range(4)]).reshape(4, 1, -1), axis=0)\n",
    "        j = np.sum(a[3:] * np.array([(i + 1) * i * (i - 1) * t ** (i - 2) for i in range(3)]).reshape(3, 1, -1), axis=0)\n",
    "\n",
    "        trajectory.append(pos)\n",
    "        trajectory_derivative.append(vel)\n",
    "        acceleration.append(acc)\n",
    "        jerk.append(j)\n",
    "\n",
    "    return trajectory, trajectory_derivative, acceleration, jerk\n",
    "\n",
    "\n",
    "# Set up points and parameters.\n",
    "points = np.array([\n",
    "    [0.0, 0.0, 0.0, 10.0, 2.0, 2.0]\n",
    "])\n",
    "\n",
    "T = 1.0\n",
    "frequency = 100\n",
    "\n",
    "traj, traj_vel, traj_acc, traj_jerk = minimum_jerk_trajectory(points, T, frequency)\n",
    "\n",
    "# Create plot.\n",
    "xaxis = np.arange(1, len(traj) + 1) / frequency\n",
    "\n",
    "fig = go.Figure()\n",
    "fig.add_trace(go.Scatter(x=xaxis, y=np.array(traj)[:, 0, 0], name='Position'))\n",
    "fig.add_trace(go.Scatter(x=xaxis, y=np.array(traj_vel)[:, 0, 0], name='Velocity'))\n",
    "fig.add_trace(go.Scatter(x=xaxis, y=np.array(traj_acc)[:, 0, 0], name='Acceleration'))\n",
    "fig.add_trace(go.Scatter(x=xaxis, y=np.array(traj_jerk)[:, 0, 0], name='Jerk'))\n",
    "\n",
    "fig.update_layout(\n",
    "    title=\"Minimum jerk trajectory\",\n",
    "    xaxis_title=\"Time [s]\",\n",
    "    yaxis_title=\"Value\",\n",
    "    legend=dict(\n",
    "        orientation=\"h\",\n",
    "        yanchor=\"bottom\",\n",
    "        y=1.02,\n",
    "        xanchor=\"right\",\n",
    "        x=1\n",
    "    )\n",
    ")\n",
    "\n",
    "fig.show()\n"
   ]
  },
  {
   "cell_type": "code",
   "execution_count": 21,
   "metadata": {},
   "outputs": [
    {
     "name": "stdout",
     "output_type": "stream",
     "text": [
      "Length of traj: 100\n",
      "Length of traj_vel: 100\n",
      "Length of traj_acc: 100\n",
      "Length of traj_jerk: 100\n",
      "Expected length: 3\n"
     ]
    },
    {
     "ename": "AssertionError",
     "evalue": "",
     "output_type": "error",
     "traceback": [
      "\u001b[1;31m---------------------------------------------------------------------------\u001b[0m",
      "\u001b[1;31mAssertionError\u001b[0m                            Traceback (most recent call last)",
      "Cell \u001b[1;32mIn[21], line 52\u001b[0m\n\u001b[0;32m     47\u001b[0m     \u001b[39massert\u001b[39;00m \u001b[39mlen\u001b[39m(traj_jerk) \u001b[39m==\u001b[39m \u001b[39mlen\u001b[39m(points) \u001b[39m-\u001b[39m \u001b[39m1\u001b[39m\n\u001b[0;32m     49\u001b[0m     \u001b[39m# Add more test cases if needed\u001b[39;00m\n\u001b[0;32m     50\u001b[0m \n\u001b[0;32m     51\u001b[0m \u001b[39m# Run the test case\u001b[39;00m\n\u001b[1;32m---> 52\u001b[0m test_minimum_jerk_trajectory()\n",
      "Cell \u001b[1;32mIn[21], line 21\u001b[0m, in \u001b[0;36mtest_minimum_jerk_trajectory\u001b[1;34m()\u001b[0m\n\u001b[0;32m     18\u001b[0m \u001b[39mprint\u001b[39m(\u001b[39m\"\u001b[39m\u001b[39mExpected length:\u001b[39m\u001b[39m\"\u001b[39m, \u001b[39mlen\u001b[39m(points) \u001b[39m-\u001b[39m \u001b[39m1\u001b[39m)\n\u001b[0;32m     20\u001b[0m \u001b[39m# Perform assertions or checks on the output\u001b[39;00m\n\u001b[1;32m---> 21\u001b[0m \u001b[39massert\u001b[39;00m \u001b[39mlen\u001b[39m(traj) \u001b[39m==\u001b[39m \u001b[39mlen\u001b[39m(points) \u001b[39m-\u001b[39m \u001b[39m1\u001b[39m\n\u001b[0;32m     22\u001b[0m \u001b[39massert\u001b[39;00m \u001b[39mlen\u001b[39m(traj_vel) \u001b[39m==\u001b[39m \u001b[39mlen\u001b[39m(points) \u001b[39m-\u001b[39m \u001b[39m1\u001b[39m\n\u001b[0;32m     23\u001b[0m \u001b[39massert\u001b[39;00m \u001b[39mlen\u001b[39m(traj_acc) \u001b[39m==\u001b[39m \u001b[39mlen\u001b[39m(points) \u001b[39m-\u001b[39m \u001b[39m1\u001b[39m\n",
      "\u001b[1;31mAssertionError\u001b[0m: "
     ]
    }
   ],
   "source": [
    "def test_minimum_jerk_trajectory():\n",
    "    # Test case 1\n",
    "    points = np.array([\n",
    "        [0.0, 0.0, 0.0, 1.0, 0.0, 0.0],\n",
    "        [1.0, 0.0, 0.0, 2.0, 0.0, 0.0],\n",
    "        [3.0, 0.0, 0.0, 4.0, 0.0, 0.0],\n",
    "        [5.0, 0.0, 0.0, 6.0, 0.0, 0.0]\n",
    "    ])\n",
    "    T = 1.0\n",
    "    frequency = 100\n",
    "    traj, traj_vel, traj_acc, traj_jerk = minimum_jerk_trajectory(points, T, frequency)\n",
    "    \n",
    "    # Print lengths for debugging\n",
    "    print(\"Length of traj:\", len(traj))\n",
    "    print(\"Length of traj_vel:\", len(traj_vel))\n",
    "    print(\"Length of traj_acc:\", len(traj_acc))\n",
    "    print(\"Length of traj_jerk:\", len(traj_jerk))\n",
    "    print(\"Expected length:\", len(points) - 1)\n",
    "    \n",
    "    # Perform assertions or checks on the output\n",
    "    assert len(traj) == len(points) - 1\n",
    "    assert len(traj_vel) == len(points) - 1\n",
    "    assert len(traj_acc) == len(points) - 1\n",
    "    assert len(traj_jerk) == len(points) - 1\n",
    "\n",
    "    # Test case 2\n",
    "    points = np.array([\n",
    "        [0.0, 0.0, 0.0, 1.0, 0.0, 0.0],\n",
    "        [2.0, 0.0, 0.0, 3.0, 0.0, 0.0],\n",
    "        [5.0, 0.0, 0.0, 4.0, 0.0, 0.0]\n",
    "    ])\n",
    "    T = 2.0\n",
    "    frequency = 200\n",
    "    traj, traj_vel, traj_acc, traj_jerk = minimum_jerk_trajectory(points, T, frequency)\n",
    "    \n",
    "    # Print lengths for debugging\n",
    "    print(\"Length of traj:\", len(traj))\n",
    "    print(\"Length of traj_vel:\", len(traj_vel))\n",
    "    print(\"Length of traj_acc:\", len(traj_acc))\n",
    "    print(\"Length of traj_jerk:\", len(traj_jerk))\n",
    "    print(\"Expected length:\", len(points) - 1)\n",
    "    \n",
    "    # Perform assertions or checks on the output\n",
    "    assert len(traj) == len(points) - 1\n",
    "    assert len(traj_vel) == len(points) - 1\n",
    "    assert len(traj_acc) == len(points) - 1\n",
    "    assert len(traj_jerk) == len(points) - 1\n",
    "\n",
    "    # Add more test cases if needed\n",
    "\n",
    "# Run the test case\n",
    "test_minimum_jerk_trajectory()\n"
   ]
  },
  {
   "cell_type": "code",
   "execution_count": 24,
   "metadata": {},
   "outputs": [
    {
     "data": {
      "text/plain": [
       "(1, 6)"
      ]
     },
     "execution_count": 24,
     "metadata": {},
     "output_type": "execute_result"
    }
   ],
   "source": [
    "points.shape"
   ]
  },
  {
   "cell_type": "code",
   "execution_count": 30,
   "metadata": {},
   "outputs": [
    {
     "data": {
      "text/plain": [
       "(6, 1)"
      ]
     },
     "execution_count": 30,
     "metadata": {},
     "output_type": "execute_result"
    }
   ],
   "source": [
    "traj[0].shape"
   ]
  },
  {
   "cell_type": "code",
   "execution_count": 32,
   "metadata": {},
   "outputs": [
    {
     "ename": "IndexError",
     "evalue": "too many indices for array: array is 1-dimensional, but 2 were indexed",
     "output_type": "error",
     "traceback": [
      "\u001b[1;31m---------------------------------------------------------------------------\u001b[0m",
      "\u001b[1;31mIndexError\u001b[0m                                Traceback (most recent call last)",
      "Cell \u001b[1;32mIn[32], line 69\u001b[0m\n\u001b[0;32m     66\u001b[0m xaxis\u001b[39m=\u001b[39mnp\u001b[39m.\u001b[39marange(\u001b[39m1\u001b[39m,\u001b[39mlen\u001b[39m(traj_x)\u001b[39m+\u001b[39m\u001b[39m1\u001b[39m)\u001b[39m/\u001b[39mfrequency\n\u001b[0;32m     68\u001b[0m fig\u001b[39m=\u001b[39mgo\u001b[39m.\u001b[39mFigure()\n\u001b[1;32m---> 69\u001b[0m fig\u001b[39m.\u001b[39madd_trace(go\u001b[39m.\u001b[39mScatter(x\u001b[39m=\u001b[39mxaxis,y\u001b[39m=\u001b[39mnp\u001b[39m.\u001b[39;49marray(traj_x)[:,\u001b[39m0\u001b[39;49m],name\u001b[39m=\u001b[39m\u001b[39m'\u001b[39m\u001b[39mPosition\u001b[39m\u001b[39m'\u001b[39m))\n\u001b[0;32m     70\u001b[0m fig\u001b[39m.\u001b[39madd_trace(go\u001b[39m.\u001b[39mScatter(x\u001b[39m=\u001b[39mxaxis,y\u001b[39m=\u001b[39mnp\u001b[39m.\u001b[39marray(traj_y)[:,\u001b[39m0\u001b[39m],name\u001b[39m=\u001b[39m\u001b[39m'\u001b[39m\u001b[39mVelocity\u001b[39m\u001b[39m'\u001b[39m))\n\u001b[0;32m     71\u001b[0m fig\u001b[39m.\u001b[39madd_trace(go\u001b[39m.\u001b[39mScatter(x\u001b[39m=\u001b[39mxaxis,y\u001b[39m=\u001b[39mnp\u001b[39m.\u001b[39marray(traj_z)[:,\u001b[39m0\u001b[39m],name\u001b[39m=\u001b[39m\u001b[39m'\u001b[39m\u001b[39mAcceleration\u001b[39m\u001b[39m'\u001b[39m))\n",
      "\u001b[1;31mIndexError\u001b[0m: too many indices for array: array is 1-dimensional, but 2 were indexed"
     ]
    }
   ],
   "source": [
    "import plotly.graph_objects as go\n",
    "import numpy as np\n",
    "\n",
    "def minimum_jerk_trajectory(points, T, frequency):\n",
    "    num_points = len(points)\n",
    "    timefreq = int(T * frequency) + 1\n",
    "\n",
    "    a = np.zeros((6, num_points))\n",
    "    a[0, :] = points[:, 0]\n",
    "    a[1, :] = points[:, 1]\n",
    "    a[2, :] = points[:, 2] / 2\n",
    "\n",
    "    b = np.zeros((num_points, 3, 3))\n",
    "    b[:, 0, 0] = T ** 3\n",
    "    b[:, 0, 1] = T ** 4\n",
    "    b[:, 0, 2] = T ** 5\n",
    "    b[:, 1, 0] = 3 * T ** 2\n",
    "    b[:, 1, 1] = 4 * T ** 3\n",
    "    b[:, 1, 2] = 5 * T ** 4\n",
    "    b[:, 2, 0] = 6 * T\n",
    "    b[:, 2, 1] = 12 * T ** 2\n",
    "    b[:, 2, 2] = 20 * T ** 3\n",
    "\n",
    "    c = np.zeros((num_points, 3))\n",
    "    c[:, 0] = points[:, 3] - a[0, :] - a[1, :] * T - a[2, :] * T ** 2\n",
    "    c[:, 1] = points[:, 4] - a[1, :] - 2 * a[2, :] * T\n",
    "    c[:, 2] = points[:, 5] - 2 * a[2, :]\n",
    "\n",
    "    for i in range(num_points):\n",
    "        a[3:, i] = np.linalg.solve(b[i], c[i])\n",
    "\n",
    "    trajectory = []\n",
    "    trajectory_derivative = []\n",
    "    acceleration = []\n",
    "    jerk = []\n",
    "\n",
    "    for time in range(1, timefreq):\n",
    "        t = time / timefreq\n",
    "        pos = np.sum(a * np.array([t ** i for i in range(6)]).reshape(6,-1), axis=0)\n",
    "        vel = np.sum(a[1:] * np.array([(i + 1) * t ** i for i in range(5)]).reshape(5,-1), axis=0)\n",
    "        acc = np.sum(a[2:] * np.array([(i + 1) * i * t ** (i - 1) for i in range(4)]).reshape(4,-1), axis=0)\n",
    "        j = np.sum(a[3:] * np.array([(i + 1) * i * (i - 1) * t ** (i - 2) for i in range(3)]).reshape(3,-1), axis=0)\n",
    "\n",
    "        trajectory.append(pos)\n",
    "        trajectory_derivative.append(vel)\n",
    "        acceleration.append(acc)\n",
    "        jerk.append(j)\n",
    "\n",
    "    return trajectory, trajectory_derivative, acceleration, jerk\n",
    "\n",
    "# Set up points and parameters.\n",
    "# Set up points and parameters.\n",
    "points = np.array([\n",
    "    [0.0, -10.0, 0.0, 0.0, 0.0, 0.0], # position, velocity and acceleration at point 0\n",
    "    [1.0,   -9.8, 2.0, 0.0, 2.0, 0.0], # position, velocity and acceleration at point 1\n",
    "    [3.0,-10.5, 0.0, 0.0, 0.0, 0.0] # position, velocity and acceleration at point 2\n",
    "])\n",
    "\n",
    "\n",
    "T = .5\n",
    "frequency = .01\n",
    "\n",
    "traj_x,traj_y,traj_z,traj_w= minimum_jerk_trajectory(points,T,frequency)\n",
    "\n",
    "# Create plot.\n",
    "xaxis=np.arange(1,len(traj_x)+1)/frequency\n",
    "\n",
    "fig=go.Figure()\n",
    "fig.add_trace(go.Scatter(x=xaxis,y=np.array(traj_x)[:,0],name='Position'))\n",
    "fig.add_trace(go.Scatter(x=xaxis,y=np.array(traj_y)[:,0],name='Velocity'))\n",
    "fig.add_trace(go.Scatter(x=xaxis,y=np.array(traj_z)[:,0],name='Acceleration'))\n",
    "fig.add_trace(go.Scatter(x=xaxis,y=np.array(traj_w)[:,0],name='Jerk'))\n",
    "\n",
    "fig.update_layout(\n",
    "title=\"Minimum jerk trajectory\",\n",
    "xaxis_title=\"Time [s]\",\n",
    "yaxis_title=\"Value\",\n",
    "legend=dict(\n",
    "orientation=\"h\",\n",
    "yanchor=\"bottom\",\n",
    "y=1.02,\n",
    "xanchor=\"right\",\n",
    "x=1\n",
    ")\n",
    ")\n",
    "\n",
    "fig.show()\n"
   ]
  },
  {
   "cell_type": "code",
   "execution_count": 5,
   "metadata": {},
   "outputs": [
    {
     "name": "stdout",
     "output_type": "stream",
     "text": [
      "[]\n"
     ]
    },
    {
     "ename": "IndexError",
     "evalue": "index 1 is out of bounds for axis 0 with size 1",
     "output_type": "error",
     "traceback": [
      "\u001b[1;31m---------------------------------------------------------------------------\u001b[0m",
      "\u001b[1;31mIndexError\u001b[0m                                Traceback (most recent call last)",
      "Cell \u001b[1;32mIn[5], line 1\u001b[0m\n\u001b[1;32m----> 1\u001b[0m min_jerk(pos\u001b[39m=\u001b[39;49mnp\u001b[39m.\u001b[39;49marray([[\u001b[39m0\u001b[39;49m,\u001b[39m1\u001b[39;49m]]), dur\u001b[39m=\u001b[39;49m\u001b[39m100\u001b[39;49m, vel\u001b[39m=\u001b[39;49m\u001b[39mNone\u001b[39;49;00m, acc\u001b[39m=\u001b[39;49m\u001b[39mNone\u001b[39;49;00m, psg\u001b[39m=\u001b[39;49m\u001b[39mNone\u001b[39;49;00m)\n",
      "Cell \u001b[1;32mIn[1], line 53\u001b[0m, in \u001b[0;36mmin_jerk\u001b[1;34m(pos, dur, vel, acc, psg)\u001b[0m\n\u001b[0;32m     49\u001b[0m         psg \u001b[39m=\u001b[39m []\n\u001b[0;32m     51\u001b[0m \u001b[39mprint\u001b[39m(psg)\n\u001b[1;32m---> 53\u001b[0m trj \u001b[39m=\u001b[39m mjTRJ(psg, pos, vel, acc, t0, dur)\n\u001b[0;32m     55\u001b[0m \u001b[39mreturn\u001b[39;00m trj, psg\n",
      "Cell \u001b[1;32mIn[1], line 121\u001b[0m, in \u001b[0;36mmjTRJ\u001b[1;34m(tx, x, v0, a0, t0, P)\u001b[0m\n\u001b[0;32m    119\u001b[0m         vv1 \u001b[39m=\u001b[39m vv[ii\u001b[39m+\u001b[39m\u001b[39m1\u001b[39m][:]\n\u001b[0;32m    120\u001b[0m         xx0 \u001b[39m=\u001b[39m x[ii][:]\n\u001b[1;32m--> 121\u001b[0m         xx1 \u001b[39m=\u001b[39m x[ii\u001b[39m+\u001b[39;49m\u001b[39m1\u001b[39;49m][:]\n\u001b[0;32m    123\u001b[0m         tmp \u001b[39m=\u001b[39m aa0\u001b[39m*\u001b[39mt\u001b[39m*\u001b[39m\u001b[39m*\u001b[39m\u001b[39m2\u001b[39m\u001b[39m/\u001b[39m\u001b[39m2\u001b[39m \u001b[39m+\u001b[39m t\u001b[39m*\u001b[39mvv0 \u001b[39m+\u001b[39m xx0 \u001b[39m+\u001b[39m t\u001b[39m*\u001b[39m\u001b[39m*\u001b[39m\u001b[39m4\u001b[39m\u001b[39m*\u001b[39m(\u001b[39m3\u001b[39m\u001b[39m*\u001b[39maa0\u001b[39m*\u001b[39mT\u001b[39m*\u001b[39m\u001b[39m*\u001b[39m\u001b[39m2\u001b[39m\u001b[39m/\u001b[39m\u001b[39m2\u001b[39m \u001b[39m-\u001b[39m aa1\u001b[39m*\u001b[39mT\u001b[39m*\u001b[39m\u001b[39m*\u001b[39m\u001b[39m2\u001b[39m \u001b[39m+\u001b[39m \\\n\u001b[0;32m    124\u001b[0m \t\t\t\t\t\t\t\t\t\t\t   \u001b[39m8\u001b[39m\u001b[39m*\u001b[39mT\u001b[39m*\u001b[39mvv0 \u001b[39m+\u001b[39m \u001b[39m7\u001b[39m\u001b[39m*\u001b[39mT\u001b[39m*\u001b[39mvv1 \u001b[39m+\u001b[39m \u001b[39m15\u001b[39m\u001b[39m*\u001b[39mxx0 \u001b[39m-\u001b[39m \u001b[39m15\u001b[39m\u001b[39m*\u001b[39mxx1)\u001b[39m/\u001b[39mT\u001b[39m*\u001b[39m\u001b[39m*\u001b[39m\u001b[39m4\u001b[39m \u001b[39m+\u001b[39m \\\n\u001b[0;32m    125\u001b[0m               t\u001b[39m*\u001b[39m\u001b[39m*\u001b[39m\u001b[39m5\u001b[39m\u001b[39m*\u001b[39m(\u001b[39m-\u001b[39m(aa0\u001b[39m*\u001b[39mT\u001b[39m*\u001b[39m\u001b[39m*\u001b[39m\u001b[39m2\u001b[39m)\u001b[39m/\u001b[39m\u001b[39m2\u001b[39m \u001b[39m+\u001b[39m aa1\u001b[39m*\u001b[39mT\u001b[39m*\u001b[39m\u001b[39m*\u001b[39m\u001b[39m2\u001b[39m\u001b[39m/\u001b[39m\u001b[39m2\u001b[39m \u001b[39m-\u001b[39m \u001b[39m3\u001b[39m\u001b[39m*\u001b[39mT\u001b[39m*\u001b[39mvv0 \u001b[39m-\u001b[39m \u001b[39m3\u001b[39m\u001b[39m*\u001b[39mT\u001b[39m*\u001b[39mvv1 \u001b[39m-\u001b[39m \u001b[39m6\u001b[39m\u001b[39m*\u001b[39mxx0\u001b[39m+\u001b[39m \\\n\u001b[0;32m    126\u001b[0m                     \u001b[39m6\u001b[39m\u001b[39m*\u001b[39mxx1)\u001b[39m/\u001b[39mT\u001b[39m*\u001b[39m\u001b[39m*\u001b[39m\u001b[39m5\u001b[39m \u001b[39m+\u001b[39m t\u001b[39m*\u001b[39m\u001b[39m*\u001b[39m\u001b[39m3\u001b[39m\u001b[39m*\u001b[39m(\u001b[39m-\u001b[39m\u001b[39m3\u001b[39m\u001b[39m*\u001b[39maa0\u001b[39m*\u001b[39mT\u001b[39m*\u001b[39m\u001b[39m*\u001b[39m\u001b[39m2\u001b[39m\u001b[39m/\u001b[39m\u001b[39m2\u001b[39m \u001b[39m+\u001b[39m aa1\u001b[39m*\u001b[39mT\u001b[39m*\u001b[39m\u001b[39m*\u001b[39m\u001b[39m2\u001b[39m\u001b[39m/\u001b[39m\u001b[39m2\u001b[39m \u001b[39m-\u001b[39m \u001b[39m6\u001b[39m\u001b[39m*\u001b[39mT\u001b[39m*\u001b[39mvv0 \u001b[39m-\u001b[39m \\\n\u001b[0;32m    127\u001b[0m                                         \u001b[39m4\u001b[39m\u001b[39m*\u001b[39mT\u001b[39m*\u001b[39mvv1 \u001b[39m-\u001b[39m \u001b[39m10\u001b[39m\u001b[39m*\u001b[39mxx0 \u001b[39m+\u001b[39m \u001b[39m10\u001b[39m\u001b[39m*\u001b[39mxx1)\u001b[39m/\u001b[39mT\u001b[39m*\u001b[39m\u001b[39m*\u001b[39m\u001b[39m3\u001b[39m\n\u001b[0;32m    128\u001b[0m         X_list\u001b[39m.\u001b[39mappend(tmp)\n",
      "\u001b[1;31mIndexError\u001b[0m: index 1 is out of bounds for axis 0 with size 1"
     ]
    }
   ],
   "source": [
    "min_jerk(pos=np.array([[0,1]]), dur=100, vel=None, acc=None, psg=None)"
   ]
  },
  {
   "cell_type": "code",
   "execution_count": 7,
   "metadata": {},
   "outputs": [],
   "source": [
    "# trj, psg = min_jerk(pos, dur, vel, acc, psg)\n",
    "# \n",
    "# Compute minimum-jerk trajectory through specified points\n",
    "#\n",
    "# INPUTS:\n",
    "# pos: NxD array with the D-dimensional coordinates of N points\n",
    "# dur: number of time steps (integer)\n",
    "# vel: 2xD array with endpoint velocities, [] sets vel to 0\n",
    "# acc: 2xD array with endpoint accelerations, [] sets acc to 0\n",
    "# psg: (N-1)x1 array of via-point passage times (between 0 and dur);\n",
    "#      [] causes optimization over the passage times\n",
    "#\n",
    "# OUTPUTS\n",
    "# trj: dur x D array with the minimum-jerk trajectory\n",
    "# psg: (N-1)x1 array of passage times\n",
    "#\n",
    "# This is an implementation of the algorithm described in:\n",
    "#  Todorov, E. and Jordan, M. (1998) Smoothness maximization along\n",
    "#  a predefined path accurately predicts the speed profiles of\n",
    "#  complex arm movements. Journal of Neurophysiology 80(2): 696-714\n",
    "# The paper is available online at www.cogsci.ucsd.edu/~todorov\n",
    "\n",
    "# Copyright (C) Emanuel Todorov, 1998-2006\n",
    "# Python implementation by Dogancan Kebude\n",
    "\n",
    "import math\n",
    "import numpy as np\n",
    "import scipy.optimize\n",
    "from numpy.linalg import inv\n",
    "\n",
    "def min_jerk(pos=None, dur=None, vel=None, acc=None, psg=None):\n",
    "\n",
    "    N = pos.shape[0]\t\t\t\t\t# number of point\n",
    "    D = pos.shape[1]\t\t\t\t\t# dimensionality\n",
    "\n",
    "    if vel is None:\n",
    "        vel = np.zeros((2,D))\t\t\t# default endpoint vel is 0\n",
    "    if acc is None:\n",
    "        acc = np.zeros((2,D))\t\t\t# default endpoint acc is 0\n",
    "\n",
    "    t0 = np.array([[0],[dur]])\n",
    "\n",
    "    if psg is None:\t\t\t\t\t# passage times unknown, optimize\n",
    "        if N > 2:\n",
    "            psg = np.arange(dur/(N-1), dur-dur/(N-1)+1, dur/(N-1)).T\n",
    "            func = lambda psg_: mjCOST(psg_, pos, vel, acc, t0)\n",
    "            psg = scipy.optimize.fmin(func = func, x0 = psg)\n",
    "        else:\n",
    "            psg = []\n",
    "\n",
    "    print(psg)\n",
    "\n",
    "    trj = mjTRJ(psg, pos, vel, acc, t0, dur)\n",
    "\n",
    "    return trj, psg\n",
    "\n",
    "################################################################\n",
    "###### Compute jerk cost\n",
    "################################################################\n",
    "\n",
    "def mjCOST(t, x, v0, a0, t0):\n",
    "\n",
    "    N = max(x.shape)\n",
    "    D = min(x.shape)\n",
    "\n",
    "    v, a = mjVelAcc(t, x, v0, a0, t0)\n",
    "    aa   = np.concatenate(([a0[0][:]], a, [a0[1][:]]), axis = 0)\n",
    "    aa0  = aa[0:N-1][:]\n",
    "    aa1  = aa[1:N][:]\n",
    "    vv   = np.concatenate(([v0[0][:]], v, [v0[1][:]]), axis = 0)\n",
    "    vv0  = vv[0:N-1][:]\n",
    "    vv1  = vv[1:N][:]\n",
    "    tt   = np.concatenate((t0[0]   , t, t0[1]   ), axis = 0)\n",
    "    T    = np.diff(tt)[np.newaxis].T*np.ones((1,D))\n",
    "    xx0  = x[0:N-1][:]\n",
    "    xx1  = x[1:N][:]\n",
    "\n",
    "    j=3*(3*aa0**2*T**4-2*aa0*aa1*T**4+3*aa1**2*T**4+24*aa0*T**3*vv0- \\\n",
    "         16*aa1*T**3*vv0 + 64*T**2*vv0**2 + 16*aa0*T**3*vv1 - \\\n",
    "         24*aa1*T**3*vv1 + 112*T**2*vv0*vv1 + 64*T**2*vv1**2 + \\\n",
    "         40*aa0*T**2*xx0 - 40*aa1*T**2*xx0 + 240*T*vv0*xx0 + \\\n",
    "         240*T*vv1*xx0 + 240*xx0**2 - 40*aa0*T**2*xx1 + 40*aa1*T**2*xx1- \\\n",
    "         240*T*vv0*xx1 - 240*T*vv1*xx1 - 480*xx0*xx1 + 240*xx1**2)/T**5\n",
    "\n",
    "    J = sum(sum(abs(j)));\n",
    "\n",
    "    return J\n",
    "\n",
    "################################################################\n",
    "###### Compute trajectory\n",
    "################################################################\n",
    "\n",
    "def mjTRJ(tx, x, v0, a0, t0, P):\n",
    "\n",
    "    N = max(x.shape)\n",
    "    D = min(x.shape)\n",
    "    X_list = []\n",
    "\n",
    "    if len(tx) > 0:\n",
    "        v, a = mjVelAcc(tx, x, v0, a0, t0)\n",
    "        aa   = np.concatenate(([a0[0][:]],  a, [a0[1][:]]), axis = 0)\n",
    "        vv   = np.concatenate(([v0[0][:]],  v, [v0[1][:]]), axis = 0)\n",
    "        tt   = np.concatenate((t0[0]   , tx, t0[1]   ), axis = 0)\n",
    "    else:\n",
    "        aa = a0\n",
    "        vv = v0\n",
    "        tt = t0\n",
    "\n",
    "    ii = 0\n",
    "    for i in range(1,int(P)+1):\n",
    "        t = (i-1)/(P-1)*(t0[1]-t0[0]) + t0[0]\n",
    "        if t > tt[ii+1]:\n",
    "            ii = ii+1\n",
    "        T = (tt[ii+1]-tt[ii])*np.ones((1,D))\n",
    "        t = (t-tt[ii])*np.ones((1,D))\n",
    "        aa0 = aa[ii][:]\n",
    "        aa1 = aa[ii+1][:]\n",
    "        vv0 = vv[ii][:]\n",
    "        vv1 = vv[ii+1][:]\n",
    "        xx0 = x[ii][:]\n",
    "        xx1 = x[ii+1][:]\n",
    "\n",
    "        tmp = aa0*t**2/2 + t*vv0 + xx0 + t**4*(3*aa0*T**2/2 - aa1*T**2 + \\\n",
    "\t\t\t\t\t\t\t\t\t\t\t   8*T*vv0 + 7*T*vv1 + 15*xx0 - 15*xx1)/T**4 + \\\n",
    "              t**5*(-(aa0*T**2)/2 + aa1*T**2/2 - 3*T*vv0 - 3*T*vv1 - 6*xx0+ \\\n",
    "                    6*xx1)/T**5 + t**3*(-3*aa0*T**2/2 + aa1*T**2/2 - 6*T*vv0 - \\\n",
    "                                        4*T*vv1 - 10*xx0 + 10*xx1)/T**3\n",
    "        X_list.append(tmp)\n",
    "\n",
    "    X = np.concatenate(X_list)\n",
    "\n",
    "    return X\n",
    "\n",
    "################################################################\n",
    "###### Compute intermediate velocities and accelerations\n",
    "################################################################\n",
    "\n",
    "def mjVelAcc(t, x, v0, a0, t0):\n",
    "\n",
    "    N = max(x.shape)\n",
    "    D = min(x.shape)\n",
    "    mat = np.zeros((2*N-4,2*N-4))\n",
    "    vec = np.zeros((2*N-4,D))\n",
    "    tt = np.concatenate((t0[0], t, t0[1]), axis = 0)\n",
    "\n",
    "    for i in range(1, 2*N-4+1, 2):\n",
    "\n",
    "        ii = int(math.ceil(i/2.0))\n",
    "        T0 = tt[ii]-tt[ii-1]\n",
    "        T1 = tt[ii+1]-tt[ii]\n",
    "\n",
    "        tmp = [-6/T0, -48/T0**2, 18*(1/T0+1/T1), \\\n",
    "               72*(1/T1**2-1/T0**2), -6/T1, 48/T1**2]\n",
    "\n",
    "        if i == 1:\n",
    "            le = 0\n",
    "        else:\n",
    "            le = -2\n",
    "\n",
    "        if i == 2*N-5:\n",
    "            ri = 1\n",
    "        else:\n",
    "            ri = 3\n",
    "\n",
    "        mat[i-1][i+le-1:i+ri] = tmp[3+le-1:3+ri]\n",
    "        vec[i-1][:] = 120*(x[ii-1][:]-x[ii][:])/T0**3 \\\n",
    "                      + 120*(x[ii+1][:]-x[ii][:])/T1**3\n",
    "\n",
    "    for i in range(2, 2*N-4+1, 2):\n",
    "\n",
    "        ii = int(math.ceil(i/2.0))\n",
    "        T0 = tt[ii]-tt[ii-1]\n",
    "        T1 = tt[ii+1]-tt[ii]\n",
    "\n",
    "        tmp = [48/T0**2, 336/T0**3, 72*(1/T1**2-1/T0**2), \\\n",
    "               384*(1/T1**3+1/T0**3), -48/T1**2, 336/T1**3]\n",
    "\n",
    "        if i == 2:\n",
    "            le = -1\n",
    "        else:\n",
    "            le = -3\n",
    "\n",
    "        if i == 2*N-4:\n",
    "            ri = 0\n",
    "        else:\n",
    "            ri = 2\n",
    "\n",
    "        mat[i-1][i+le-1:i+ri] = tmp[4+le-1:4+ri]\n",
    "        vec[i-1][:] = 720*(x[ii][:]-x[ii-1][:])/T0**4 \\\n",
    "                      + 720*(x[ii+1][:]-x[ii][:])/T1**4\n",
    "\n",
    "    T0 = tt[1] - tt[0]\n",
    "    T1 = tt[N-1]-tt[N-2]\n",
    "    vec[0][:] = vec[0][:] +  6/T0*a0[0][:]    +  48/T0**2*v0[0][:]\n",
    "    vec[1][:] = vec[1][:] - 48/T0**2*a0[0][:] - 336/T0**3*v0[0][:]\n",
    "    vec[2*N-6][:] = vec[2*N-6][:] +  6/T1*a0[1][:]    -  48/T1**2*v0[1][:]\n",
    "    vec[2*N-5][:] = vec[2*N-5][:] + 48/T1**2*a0[1][:] - 336/T1**3*v0[1][:]\n",
    "\n",
    "    avav = np.linalg.inv(mat).dot(vec)\n",
    "    a = avav[0:2*N-4:2][:]\n",
    "    v = avav[1:2*N-4:2][:]\n",
    "\n",
    "    return v, a"
   ]
  },
  {
   "cell_type": "code",
   "execution_count": 22,
   "metadata": {},
   "outputs": [
    {
     "data": {
      "text/plain": [
       "array([[0],\n",
       "       [1],\n",
       "       [2]])"
      ]
     },
     "execution_count": 22,
     "metadata": {},
     "output_type": "execute_result"
    }
   ],
   "source": [
    "np.array([[0], [1], [2]])"
   ]
  },
  {
   "cell_type": "code",
   "execution_count": 28,
   "metadata": {},
   "outputs": [
    {
     "name": "stdout",
     "output_type": "stream",
     "text": [
      "[]\n",
      "Minimum-Jerk Trajectory:\n",
      "[[0.00000000e+00]\n",
      " [1.01505794e-05]\n",
      " [7.99705528e-05]\n",
      " [2.65769658e-04]\n",
      " [6.20261379e-04]\n",
      " [1.19263866e-03]\n",
      " [2.02864962e-03]\n",
      " [3.17067324e-03]\n",
      " [4.65779511e-03]\n",
      " [6.52588311e-03]\n",
      " [8.80766313e-03]\n",
      " [1.15327948e-02]\n",
      " [1.47279472e-02]\n",
      " [1.84168744e-02]\n",
      " [2.26204916e-02]\n",
      " [2.73569503e-02]\n",
      " [3.26417144e-02]\n",
      " [3.84876358e-02]\n",
      " [4.49050301e-02]\n",
      " [5.19017522e-02]\n",
      " [5.94832722e-02]\n",
      " [6.76527511e-02]\n",
      " [7.64111162e-02]\n",
      " [8.57571373e-02]\n",
      " [9.56875021e-02]\n",
      " [1.06196892e-01]\n",
      " [1.17278057e-01]\n",
      " [1.28921894e-01]\n",
      " [1.41117519e-01]\n",
      " [1.53852346e-01]\n",
      " [1.67112159e-01]\n",
      " [1.80881191e-01]\n",
      " [1.95142201e-01]\n",
      " [2.09876543e-01]\n",
      " [2.25064250e-01]\n",
      " [2.40684103e-01]\n",
      " [2.56713712e-01]\n",
      " [2.73129586e-01]\n",
      " [2.89907215e-01]\n",
      " [3.07021141e-01]\n",
      " [3.24445035e-01]\n",
      " [3.42151774e-01]\n",
      " [3.60113517e-01]\n",
      " [3.78301775e-01]\n",
      " [3.96687497e-01]\n",
      " [4.15241135e-01]\n",
      " [4.33932727e-01]\n",
      " [4.52731970e-01]\n",
      " [4.71608296e-01]\n",
      " [4.90530947e-01]\n",
      " [5.09469053e-01]\n",
      " [5.28391704e-01]\n",
      " [5.47268030e-01]\n",
      " [5.66067273e-01]\n",
      " [5.84758865e-01]\n",
      " [6.03312503e-01]\n",
      " [6.21698225e-01]\n",
      " [6.39886483e-01]\n",
      " [6.57848226e-01]\n",
      " [6.75554965e-01]\n",
      " [6.92978859e-01]\n",
      " [7.10092785e-01]\n",
      " [7.26870414e-01]\n",
      " [7.43286288e-01]\n",
      " [7.59315897e-01]\n",
      " [7.74935750e-01]\n",
      " [7.90123457e-01]\n",
      " [8.04857799e-01]\n",
      " [8.19118809e-01]\n",
      " [8.32887841e-01]\n",
      " [8.46147654e-01]\n",
      " [8.58882481e-01]\n",
      " [8.71078106e-01]\n",
      " [8.82721943e-01]\n",
      " [8.93803108e-01]\n",
      " [9.04312498e-01]\n",
      " [9.14242863e-01]\n",
      " [9.23588884e-01]\n",
      " [9.32347249e-01]\n",
      " [9.40516728e-01]\n",
      " [9.48098248e-01]\n",
      " [9.55094970e-01]\n",
      " [9.61512364e-01]\n",
      " [9.67358286e-01]\n",
      " [9.72643050e-01]\n",
      " [9.77379508e-01]\n",
      " [9.81583126e-01]\n",
      " [9.85272053e-01]\n",
      " [9.88467205e-01]\n",
      " [9.91192337e-01]\n",
      " [9.93474117e-01]\n",
      " [9.95342205e-01]\n",
      " [9.96829327e-01]\n",
      " [9.97971350e-01]\n",
      " [9.98807361e-01]\n",
      " [9.99379739e-01]\n",
      " [9.99734230e-01]\n",
      " [9.99920029e-01]\n",
      " [9.99989849e-01]\n",
      " [1.00000000e+00]]\n",
      "Passage Times:\n",
      "[]\n"
     ]
    }
   ],
   "source": [
    "# Define the input parameters\n",
    "pos = np.array([[0], [1], [2],  [8]])  # NxD array with coordinates of N points\n",
    "dur = 100  # number of time steps\n",
    "vel = np.array([[0], [0], [0],  [0]])  # endpoint velocities (default: 0)\n",
    "acc = np.zeros((3, 1))  # endpoint accelerations (default: 0)\n",
    "psg = np.array([])  # via-point passage times (default: [])\n",
    "\n",
    "# Run the minimum-jerk trajectory computation\n",
    "trj, psg = min_jerk(pos, dur, vel, acc, psg)\n",
    "\n",
    "# Print the results\n",
    "print(\"Minimum-Jerk Trajectory:\")\n",
    "print(trj)\n",
    "print(\"Passage Times:\")\n",
    "print(psg)"
   ]
  },
  {
   "cell_type": "code",
   "execution_count": 29,
   "metadata": {},
   "outputs": [
    {
     "data": {
      "text/plain": [
       "[<matplotlib.lines.Line2D at 0x25cef6f7ee0>]"
      ]
     },
     "execution_count": 29,
     "metadata": {},
     "output_type": "execute_result"
    },
    {
     "data": {
      "image/png": "[encoded data removed]",
      "text/plain": [
       "<Figure size 640x480 with 1 Axes>"
      ]
     },
     "metadata": {},
     "output_type": "display_data"
    }
   ],
   "source": [
    "import matplotlib.pyplot as plt\n",
    "plt.plot(trj)"
   ]
  },
  {
   "cell_type": "code",
   "execution_count": null,
   "metadata": {},
   "outputs": [],
   "source": []
  }
 ],
 "metadata": {
  "kernelspec": {
   "display_name": "venv",
   "language": "python",
   "name": "python3"
  },
  "language_info": {
   "codemirror_mode": {
    "name": "ipython",
    "version": 3
   },
   "file_extension": ".py",
   "mimetype": "text/x-python",
   "name": "python",
   "nbconvert_exporter": "python",
   "pygments_lexer": "ipython3",
   "version": "3.10.11"
  },
  "orig_nbformat": 4
 },
 "nbformat": 4,
 "nbformat_minor": 2
}
